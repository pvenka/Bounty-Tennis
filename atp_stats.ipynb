{
 "cells": [
  {
   "cell_type": "markdown",
   "metadata": {},
   "source": [
    "Let us try to find out who is the best tennins player. There are many ways you can do this. Count the number of slam titles, no of tournament titles, titles across surfaces, wins over top ten people etc.\n",
    "I downloaded data from atp stat website. One file had % matches won, total matches won and total matches lost. The second had the same data for all slam matches, the third the same for all finals the player played in I am using the following method find the % games played by the player in the finals ( i.e no of finals palyed/ total no of games played). The average out this with % matches won , % slam matches won , and % finals won. I downloaded top 100 from each category, collated the files and did the analysis. The results are shown below. "
   ]
  },
  {
   "cell_type": "code",
   "execution_count": 1,
   "metadata": {
    "collapsed": true
   },
   "outputs": [],
   "source": [
    "import pandas as pd"
   ]
  },
  {
   "cell_type": "code",
   "execution_count": 2,
   "metadata": {
    "collapsed": true
   },
   "outputs": [],
   "source": [
    "df1 = pd.read_csv(\"tens4.txt\")"
   ]
  },
  {
   "cell_type": "code",
   "execution_count": 3,
   "metadata": {
    "collapsed": false
   },
   "outputs": [
    {
     "name": "stdout",
     "output_type": "stream",
     "text": [
      "   no            name   %won  no_of_championships-won  career_matches_won  \\\n",
      "0   1    Rafael Nadal  0.827                       67                 767   \n",
      "1   2      Bjorn Borg  0.827                       64                 609   \n",
      "2   3  Novak Djokovic  0.825                       59                 686   \n",
      "\n",
      "    career_matches_lost  \n",
      "0                   160  \n",
      "1                   127  \n",
      "2                   146  \n"
     ]
    }
   ],
   "source": [
    "print df1.head(3)"
   ]
  },
  {
   "cell_type": "code",
   "execution_count": 4,
   "metadata": {
    "collapsed": false
   },
   "outputs": [],
   "source": [
    "df2 = pd.read_csv(\"slam_finals2.txt\")"
   ]
  },
  {
   "cell_type": "code",
   "execution_count": 11,
   "metadata": {
    "collapsed": false
   },
   "outputs": [
    {
     "name": "stdout",
     "output_type": "stream",
     "text": [
      "   No         name   %won  no_of_slams  slam_matches_won  slam_matches_lost\n",
      "0   1    Don Budge  0.921            6                58                  5\n",
      "1   2   Bjorn Borg  0.898           11               141                 16\n",
      "2   3  Bill Tilden  0.898           10               114                 13\n"
     ]
    }
   ],
   "source": [
    "print df2.head(3)"
   ]
  },
  {
   "cell_type": "code",
   "execution_count": 5,
   "metadata": {
    "collapsed": true
   },
   "outputs": [],
   "source": [
    "df3 = pd.read_csv(\"tens_finals3.txt\")"
   ]
  },
  {
   "cell_type": "code",
   "execution_count": 6,
   "metadata": {
    "collapsed": false
   },
   "outputs": [
    {
     "data": {
      "text/html": [
       "<div>\n",
       "<table border=\"1\" class=\"dataframe\">\n",
       "  <thead>\n",
       "    <tr style=\"text-align: right;\">\n",
       "      <th></th>\n",
       "      <th>NO</th>\n",
       "      <th>NAME</th>\n",
       "      <th>%won</th>\n",
       "      <th>final_matches_won</th>\n",
       "      <th>fianl_matches_lost</th>\n",
       "    </tr>\n",
       "  </thead>\n",
       "  <tbody>\n",
       "    <tr>\n",
       "      <th>0</th>\n",
       "      <td>1</td>\n",
       "      <td>Thomas Muster</td>\n",
       "      <td>0.81ZZ5\\t</td>\n",
       "      <td>44</td>\n",
       "      <td>10</td>\n",
       "    </tr>\n",
       "    <tr>\n",
       "      <th>1</th>\n",
       "      <td>2</td>\n",
       "      <td>Nikolay Davydenko</td>\n",
       "      <td>0.750</td>\n",
       "      <td>21</td>\n",
       "      <td>7</td>\n",
       "    </tr>\n",
       "    <tr>\n",
       "      <th>2</th>\n",
       "      <td>3</td>\n",
       "      <td>Thomas Enqvist</td>\n",
       "      <td>0.731</td>\n",
       "      <td>19</td>\n",
       "      <td>7</td>\n",
       "    </tr>\n",
       "  </tbody>\n",
       "</table>\n",
       "</div>"
      ],
      "text/plain": [
       "   NO               NAME       %won  final_matches_won  fianl_matches_lost\n",
       "0   1      Thomas Muster  0.81ZZ5\\t                 44                  10\n",
       "1   2  Nikolay Davydenko      0.750                 21                   7\n",
       "2   3     Thomas Enqvist      0.731                 19                   7"
      ]
     },
     "execution_count": 6,
     "metadata": {},
     "output_type": "execute_result"
    }
   ],
   "source": [
    "df3.head(3)"
   ]
  },
  {
   "cell_type": "markdown",
   "metadata": {},
   "source": [
    "Each of the above is the list of top 100 based on %won. Let us make a consolidated table combining all three. We get names of players from all three and for each player who has data in all three files we create a new file."
   ]
  },
  {
   "cell_type": "code",
   "execution_count": 7,
   "metadata": {
    "collapsed": false
   },
   "outputs": [
    {
     "name": "stdout",
     "output_type": "stream",
     "text": [
      "Bjorn Borg,0.898,11,141,16,0.827,64,609,127,0.727,64,24\n",
      "\n",
      "\n",
      "Rafael Nadal,0.872,14,198,29,0.827,67,767,160,0.684,67,31\n",
      "\n",
      "\n",
      "Novak Djokovic,0.859,10,207,34,0.825,59,686,146,0.690,58,26\n",
      "\n",
      "\n",
      "Roger Federer,0.858,17,297,49,0.816,88,1059,238,0.657,88,46\n",
      "\n",
      "\n",
      "Rod Laver,0.849,4,45,8,0.792,44,423,111,0.698,44,19\n",
      "\n",
      "\n",
      "Pete Sampras,0.842,14,203,38,0.774,64,762,222,0.727,64,24\n",
      "\n",
      "\n",
      "Jimmy Connors,0.826,8,233,49,0.819,109,1254,278,0.690,109,49\n",
      "\n",
      "\n",
      "Ivan Lendl,0.819,8,222,49,0.818,94,1071,239,0.648,92,50\n",
      "\n",
      "\n",
      "John Newcombe,0.819,5,86,19,0.743,31,445,154,0.620,31,19\n",
      "\n",
      "\n",
      "Ken Rosewall,0.819,3,77,17,0.740,29,444,156,0.604,29,19\n",
      "\n",
      "\n",
      "John McEnroe,0.815,7,167,38,0.815,77,875,198,0.710,76,31\n",
      "\n",
      "\n",
      "Andre Agassi,0.809,8,224,53,0.760,60,870,274,0.663,59,30\n",
      "\n",
      "\n",
      "Andy Murray,0.805,2,153,37,0.770,35,552,165,0.673,35,17\n",
      "\n",
      "\n",
      "Boris Becker,0.803,6,163,40,0.769,49,713,214,0.636,49,28\n",
      "\n",
      "\n",
      "Mats Wilander,0.796,7,144,37,0.720,33,571,222,0.559,33,26\n",
      "\n",
      "\n",
      "Stefan Edberg,0.791,6,178,47,0.748,41,801,270,0.532,41,36\n",
      "\n",
      "\n",
      "Arthur Ashe,0.779,2,95,27,0.752,32,634,209,0.471,32,36\n",
      "\n",
      "\n",
      "Jim Courier,0.756,4,118,38,0.681,23,506,237,0.639,23,13\n",
      "\n",
      "\n",
      "Guillermo Vilas,0.754,4,138,45,0.765,62,928,285,0.608,62,40\n",
      "\n",
      "\n",
      "Yevgeny Kafelnikov,0.733,2,99,36,0.666,26,609,306,0.565,26,20\n",
      "\n",
      "\n",
      "Stan Smith,0.721,2,101,39,0.711,37,646,262,0.649,37,20\n",
      "\n",
      "\n",
      "Stan Wawrinka,0.715,2,103,41,0.627,11,392,233,0.550,11,9\n",
      "\n",
      "\n",
      "Marat Safin,0.714,2,95,38,0.612,15,422,267,0.556,15,12\n",
      "\n",
      "\n",
      "Ilie Nastase,0.706,2,96,40,0.721,58,775,300,0.611,58,37\n",
      "\n",
      "\n",
      "Johan Kriek,0.704,2,81,34,0.629,14,376,222,0.519,14,13\n",
      "\n",
      "\n",
      "Lleyton Hewitt,0.700,2,147,63,0.702,30,615,261,0.652,30,16\n",
      "\n",
      "\n",
      "Gustavo Kuerten,0.684,3,65,30,0.647,20,358,195,0.690,20,9\n",
      "\n",
      "\n"
     ]
    }
   ],
   "source": [
    "f4 = open(\"allb.txt\",\"w\")\n",
    "f1 = open(\"slam_finals2.txt\",\"r\").readlines()\n",
    "names = []\n",
    "for i in f1:\n",
    "   a = i.split(\",\")\n",
    "   b = a[1]\n",
    "   if b in names:\n",
    "     pass\n",
    "   else:\n",
    "     names.append(b)\n",
    "f2 = open(\"tens4.txt\",\"r\").readlines()\n",
    "\n",
    "for i in f2:\n",
    "   a = i.split(\",\")\n",
    "   b = a[1]\n",
    "   if b in names:\n",
    "     pass\n",
    "   else:\n",
    "     names.append(b)\n",
    "\n",
    "f3 = open(\"tens_finals3.txt\",\"r\").readlines()\n",
    "for i in f3:\n",
    "   a = i.split(\",\")\n",
    "   b = a[1]\n",
    "   if b in names:\n",
    "     pass\n",
    "   else:\n",
    "     names.append(b)\n",
    "for i in names:\n",
    "    for j in f1:\n",
    "       for k in f2:\n",
    "           for l in f3:\n",
    "               if (i in j) and (i in k) and (i in l):\n",
    "                  kl = j.strip(\"\\n\")+\",\"+k.strip(\"\\n\")+\",\"+l\n",
    "                  kl1 = kl.split(\",\")\n",
    "                  kl2= kl1[1]+\",\"+kl1[2]+\",\"+kl1[3]+\",\"+kl1[4]+\",\"+kl1[5]+\",\"+kl1[8]+\",\"+kl1[9]+\",\"+kl1[10]+\",\"+kl1[11]+\",\"+kl1[14]+\",\"+kl1[15]+\",\"+kl1[16]+\"\\n\"\n",
    "                  print kl2\n",
    "                  f4.write(kl2)                                                                    "
   ]
  },
  {
   "cell_type": "markdown",
   "metadata": {},
   "source": [
    "We can now calculate % of matches played in final and add to all other percentages and take average."
   ]
  },
  {
   "cell_type": "code",
   "execution_count": 12,
   "metadata": {
    "collapsed": false
   },
   "outputs": [],
   "source": [
    "df = pd.read_csv(\"allb.txt\")"
   ]
  },
  {
   "cell_type": "code",
   "execution_count": 13,
   "metadata": {
    "collapsed": false
   },
   "outputs": [
    {
     "data": {
      "text/html": [
       "<div>\n",
       "<table border=\"1\" class=\"dataframe\">\n",
       "  <thead>\n",
       "    <tr style=\"text-align: right;\">\n",
       "      <th></th>\n",
       "      <th>name</th>\n",
       "      <th>%slam_matches_won</th>\n",
       "      <th>no_of_slams</th>\n",
       "      <th>slam_matches_won</th>\n",
       "      <th>slam_matches_lost</th>\n",
       "      <th>%career_matches_won</th>\n",
       "      <th>no_of_chammpionships_won</th>\n",
       "      <th>career_matches_won</th>\n",
       "      <th>career_matches_lost</th>\n",
       "      <th>%finals_won</th>\n",
       "      <th>finals_won</th>\n",
       "      <th>finals_lost</th>\n",
       "    </tr>\n",
       "  </thead>\n",
       "  <tbody>\n",
       "    <tr>\n",
       "      <th>0</th>\n",
       "      <td>Bjorn Borg</td>\n",
       "      <td>0.898</td>\n",
       "      <td>11</td>\n",
       "      <td>141</td>\n",
       "      <td>16</td>\n",
       "      <td>0.827</td>\n",
       "      <td>64</td>\n",
       "      <td>609</td>\n",
       "      <td>127</td>\n",
       "      <td>0.727</td>\n",
       "      <td>64</td>\n",
       "      <td>24</td>\n",
       "    </tr>\n",
       "    <tr>\n",
       "      <th>1</th>\n",
       "      <td>Rafael Nadal</td>\n",
       "      <td>0.872</td>\n",
       "      <td>14</td>\n",
       "      <td>198</td>\n",
       "      <td>29</td>\n",
       "      <td>0.827</td>\n",
       "      <td>67</td>\n",
       "      <td>767</td>\n",
       "      <td>160</td>\n",
       "      <td>0.684</td>\n",
       "      <td>67</td>\n",
       "      <td>31</td>\n",
       "    </tr>\n",
       "    <tr>\n",
       "      <th>2</th>\n",
       "      <td>Novak Djokovic</td>\n",
       "      <td>0.859</td>\n",
       "      <td>10</td>\n",
       "      <td>207</td>\n",
       "      <td>34</td>\n",
       "      <td>0.825</td>\n",
       "      <td>59</td>\n",
       "      <td>686</td>\n",
       "      <td>146</td>\n",
       "      <td>0.690</td>\n",
       "      <td>58</td>\n",
       "      <td>26</td>\n",
       "    </tr>\n",
       "  </tbody>\n",
       "</table>\n",
       "</div>"
      ],
      "text/plain": [
       "             name  %slam_matches_won  no_of_slams  slam_matches_won  \\\n",
       "0      Bjorn Borg              0.898           11               141   \n",
       "1    Rafael Nadal              0.872           14               198   \n",
       "2  Novak Djokovic              0.859           10               207   \n",
       "\n",
       "   slam_matches_lost  %career_matches_won  no_of_chammpionships_won  \\\n",
       "0                 16                0.827                        64   \n",
       "1                 29                0.827                        67   \n",
       "2                 34                0.825                        59   \n",
       "\n",
       "   career_matches_won  career_matches_lost  %finals_won  finals_won  \\\n",
       "0                 609                  127        0.727          64   \n",
       "1                 767                  160        0.684          67   \n",
       "2                 686                  146        0.690          58   \n",
       "\n",
       "   finals_lost  \n",
       "0           24  \n",
       "1           31  \n",
       "2           26  "
      ]
     },
     "execution_count": 13,
     "metadata": {},
     "output_type": "execute_result"
    }
   ],
   "source": [
    "df.head(3)"
   ]
  },
  {
   "cell_type": "code",
   "execution_count": 14,
   "metadata": {
    "collapsed": false
   },
   "outputs": [],
   "source": [
    "df[\"%matches_which_are_finals\"]=(df[\"finals_won\"]+df[\"finals_lost\"])/(df[\"career_matches_won\"]+df[\"career_matches_lost\"])"
   ]
  },
  {
   "cell_type": "code",
   "execution_count": 15,
   "metadata": {
    "collapsed": false
   },
   "outputs": [],
   "source": [
    "df[\"score\"]=(df[\"%matches_which_are_finals\"]+df[\"%slam_matches_won\"]+df[\"%career_matches_won\"]+df[\"%finals_won\"])/4"
   ]
  },
  {
   "cell_type": "code",
   "execution_count": 17,
   "metadata": {
    "collapsed": true
   },
   "outputs": [],
   "source": [
    "dfa = df[[\"name\",\"score\"]]"
   ]
  },
  {
   "cell_type": "code",
   "execution_count": 18,
   "metadata": {
    "collapsed": false
   },
   "outputs": [
    {
     "data": {
      "text/html": [
       "<div>\n",
       "<table border=\"1\" class=\"dataframe\">\n",
       "  <thead>\n",
       "    <tr style=\"text-align: right;\">\n",
       "      <th></th>\n",
       "      <th>name</th>\n",
       "      <th>score</th>\n",
       "    </tr>\n",
       "  </thead>\n",
       "  <tbody>\n",
       "    <tr>\n",
       "      <th>0</th>\n",
       "      <td>Bjorn Borg</td>\n",
       "      <td>0.642891</td>\n",
       "    </tr>\n",
       "    <tr>\n",
       "      <th>1</th>\n",
       "      <td>Rafael Nadal</td>\n",
       "      <td>0.622179</td>\n",
       "    </tr>\n",
       "    <tr>\n",
       "      <th>2</th>\n",
       "      <td>Novak Djokovic</td>\n",
       "      <td>0.618740</td>\n",
       "    </tr>\n",
       "    <tr>\n",
       "      <th>4</th>\n",
       "      <td>Rod Laver</td>\n",
       "      <td>0.614244</td>\n",
       "    </tr>\n",
       "    <tr>\n",
       "      <th>10</th>\n",
       "      <td>John McEnroe</td>\n",
       "      <td>0.609930</td>\n",
       "    </tr>\n",
       "    <tr>\n",
       "      <th>6</th>\n",
       "      <td>Jimmy Connors</td>\n",
       "      <td>0.609533</td>\n",
       "    </tr>\n",
       "    <tr>\n",
       "      <th>3</th>\n",
       "      <td>Roger Federer</td>\n",
       "      <td>0.608579</td>\n",
       "    </tr>\n",
       "    <tr>\n",
       "      <th>5</th>\n",
       "      <td>Pete Sampras</td>\n",
       "      <td>0.608108</td>\n",
       "    </tr>\n",
       "    <tr>\n",
       "      <th>7</th>\n",
       "      <td>Ivan Lendl</td>\n",
       "      <td>0.598349</td>\n",
       "    </tr>\n",
       "    <tr>\n",
       "      <th>12</th>\n",
       "      <td>Andy Murray</td>\n",
       "      <td>0.580131</td>\n",
       "    </tr>\n",
       "    <tr>\n",
       "      <th>11</th>\n",
       "      <td>Andre Agassi</td>\n",
       "      <td>0.577449</td>\n",
       "    </tr>\n",
       "    <tr>\n",
       "      <th>13</th>\n",
       "      <td>Boris Becker</td>\n",
       "      <td>0.572766</td>\n",
       "    </tr>\n",
       "    <tr>\n",
       "      <th>8</th>\n",
       "      <td>John Newcombe</td>\n",
       "      <td>0.566368</td>\n",
       "    </tr>\n",
       "    <tr>\n",
       "      <th>9</th>\n",
       "      <td>Ken Rosewall</td>\n",
       "      <td>0.560750</td>\n",
       "    </tr>\n",
       "    <tr>\n",
       "      <th>18</th>\n",
       "      <td>Guillermo Vilas</td>\n",
       "      <td>0.552772</td>\n",
       "    </tr>\n",
       "    <tr>\n",
       "      <th>14</th>\n",
       "      <td>Mats Wilander</td>\n",
       "      <td>0.537350</td>\n",
       "    </tr>\n",
       "    <tr>\n",
       "      <th>20</th>\n",
       "      <td>Stan Smith</td>\n",
       "      <td>0.535944</td>\n",
       "    </tr>\n",
       "    <tr>\n",
       "      <th>15</th>\n",
       "      <td>Stefan Edberg</td>\n",
       "      <td>0.535724</td>\n",
       "    </tr>\n",
       "    <tr>\n",
       "      <th>23</th>\n",
       "      <td>Ilie Nastase</td>\n",
       "      <td>0.531593</td>\n",
       "    </tr>\n",
       "    <tr>\n",
       "      <th>17</th>\n",
       "      <td>Jim Courier</td>\n",
       "      <td>0.531113</td>\n",
       "    </tr>\n",
       "    <tr>\n",
       "      <th>25</th>\n",
       "      <td>Lleyton Hewitt</td>\n",
       "      <td>0.526628</td>\n",
       "    </tr>\n",
       "    <tr>\n",
       "      <th>16</th>\n",
       "      <td>Arthur Ashe</td>\n",
       "      <td>0.520666</td>\n",
       "    </tr>\n",
       "    <tr>\n",
       "      <th>26</th>\n",
       "      <td>Gustavo Kuerten</td>\n",
       "      <td>0.518360</td>\n",
       "    </tr>\n",
       "    <tr>\n",
       "      <th>19</th>\n",
       "      <td>Yevgeny Kafelnikov</td>\n",
       "      <td>0.503568</td>\n",
       "    </tr>\n",
       "    <tr>\n",
       "      <th>21</th>\n",
       "      <td>Stan Wawrinka</td>\n",
       "      <td>0.481000</td>\n",
       "    </tr>\n",
       "    <tr>\n",
       "      <th>22</th>\n",
       "      <td>Marat Safin</td>\n",
       "      <td>0.480297</td>\n",
       "    </tr>\n",
       "    <tr>\n",
       "      <th>24</th>\n",
       "      <td>Johan Kriek</td>\n",
       "      <td>0.474288</td>\n",
       "    </tr>\n",
       "  </tbody>\n",
       "</table>\n",
       "</div>"
      ],
      "text/plain": [
       "                  name     score\n",
       "0           Bjorn Borg  0.642891\n",
       "1         Rafael Nadal  0.622179\n",
       "2       Novak Djokovic  0.618740\n",
       "4            Rod Laver  0.614244\n",
       "10        John McEnroe  0.609930\n",
       "6        Jimmy Connors  0.609533\n",
       "3        Roger Federer  0.608579\n",
       "5         Pete Sampras  0.608108\n",
       "7           Ivan Lendl  0.598349\n",
       "12         Andy Murray  0.580131\n",
       "11        Andre Agassi  0.577449\n",
       "13        Boris Becker  0.572766\n",
       "8        John Newcombe  0.566368\n",
       "9         Ken Rosewall  0.560750\n",
       "18     Guillermo Vilas  0.552772\n",
       "14       Mats Wilander  0.537350\n",
       "20          Stan Smith  0.535944\n",
       "15       Stefan Edberg  0.535724\n",
       "23        Ilie Nastase  0.531593\n",
       "17         Jim Courier  0.531113\n",
       "25      Lleyton Hewitt  0.526628\n",
       "16         Arthur Ashe  0.520666\n",
       "26     Gustavo Kuerten  0.518360\n",
       "19  Yevgeny Kafelnikov  0.503568\n",
       "21       Stan Wawrinka  0.481000\n",
       "22         Marat Safin  0.480297\n",
       "24         Johan Kriek  0.474288"
      ]
     },
     "execution_count": 18,
     "metadata": {},
     "output_type": "execute_result"
    }
   ],
   "source": [
    "dfa.sort([\"score\"],ascending=False)"
   ]
  },
  {
   "cell_type": "markdown",
   "metadata": {
    "collapsed": true
   },
   "source": [
    "It will be interesting to see how the stats look when Federer, Nadal, Djokovic, Wawrinka, Murray etc are retired."
   ]
  },
  {
   "cell_type": "code",
   "execution_count": null,
   "metadata": {
    "collapsed": true
   },
   "outputs": [],
   "source": []
  }
 ],
 "metadata": {
  "kernelspec": {
   "display_name": "Python 2",
   "language": "python",
   "name": "python2"
  },
  "language_info": {
   "codemirror_mode": {
    "name": "ipython",
    "version": 2
   },
   "file_extension": ".py",
   "mimetype": "text/x-python",
   "name": "python",
   "nbconvert_exporter": "python",
   "pygments_lexer": "ipython2",
   "version": "2.7.10"
  }
 },
 "nbformat": 4,
 "nbformat_minor": 0
}
